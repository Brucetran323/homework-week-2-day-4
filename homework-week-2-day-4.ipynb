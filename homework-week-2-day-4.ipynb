{
 "cells": [
  {
   "cell_type": "markdown",
   "id": "ae093238",
   "metadata": {},
   "source": [
    "# Exercise 1 - Turn the shopping cart program from yesterday into an object-oriented program\n",
    "The comments in the cell below are there as a guide for thinking about the problem. However, if you feel a different way is best for you and your own thought process, please do what feels best for you by all means."
   ]
  },
  {
   "cell_type": "code",
   "execution_count": 11,
   "id": "94b74377",
   "metadata": {},
   "outputs": [
    {
     "name": "stdout",
     "output_type": "stream",
     "text": [
      "Welcome to Bruce Mart! What would you like to do?\n",
      " Type 1 - to Add to your cart! \n",
      " Type 2 - to Show your cart! \n",
      " Type 3 - to Remove something form your cart!\n",
      " Type 0 - to Quit!\n",
      "0\n",
      "Thanks you for shopping at Bruce Mart! See you next time!\n"
     ]
    }
   ],
   "source": [
    "# Create a class called cart that retains items and has methods to add, remove, and show\n",
    "\n",
    "class Cart:\n",
    "    def __init__(self, inCart=[], totalItems=[]):\n",
    "        self.inCart = inCart\n",
    "        self.totalItems = totalItems\n",
    "\n",
    "    def addToCart(self):\n",
    "        x = input(\"What would you like to add to your cart?\\n\")\n",
    "        self.inCart.append(x.strip())\n",
    "        y = int(input(f\"How many {x.strip()}'s would you like?\\n\"))\n",
    "        self.totalItems.append(y)\n",
    "\n",
    "    def showCart(self):\n",
    "        u = sum(self.totalItems)\n",
    "        print(\n",
    "            f\"Here are your items the cart so far!\\nYou have {u} total items!\")\n",
    "        for i in self.inCart:\n",
    "            print(i)\n",
    "        for p in self.totalItems:\n",
    "            print(p)\n",
    "\n",
    "    def deleteCart(self):\n",
    "        if len(self.inCart) == 0:\n",
    "            print(\"Your cart us empty! You will need to add items to remove!\")\n",
    "        else:\n",
    "            z = input(\n",
    "                f\"Please select from the following items to remove!\\n {self.inCart}\\n\")\n",
    "            q = int(input(f\"Please select how many you had.\\n {self.totalItems}\\n\"))\n",
    "            if z not in self.inCart or q not in self.totalItems:\n",
    "                print(\"Not a valid entry! Try again!\")\n",
    "\n",
    "            else:\n",
    "                self.inCart.remove(z)\n",
    "                self.totalItems.remove(q)\n",
    "\n",
    "    def runIt(self):\n",
    "        while True:\n",
    "            r = int(input(\"Welcome to Bruce Mart! What would you like to do?\\n Type 1 - to Add to your cart! \\n Type 2 - to Show your cart! \\n Type 3 - to Remove something form your cart!\\n Type 0 - to Quit!\\n\"))\n",
    "            if r == 1:\n",
    "                self.addToCart()\n",
    "\n",
    "            elif r == 2:\n",
    "                self.showCart()\n",
    "\n",
    "            elif r == 3:\n",
    "                self.deleteCart()\n",
    "\n",
    "            elif r == 0:\n",
    "                print(\"Thanks you for shopping at Bruce Mart! See you next time!\")\n",
    "                break\n",
    "\n",
    "            else:\n",
    "                print(\"INVALID!\")\n",
    "\n",
    "\n",
    "test = Cart()\n",
    "test.runIt()\n"
   ]
  },
  {
   "cell_type": "markdown",
   "id": "317d9647",
   "metadata": {},
   "source": [
    "# Exercise 2 - Write a Python class which has two methods get_String and print_String. get_String accept a string from the user and print_String print the string in upper case"
   ]
  },
  {
   "cell_type": "code",
   "execution_count": 9,
   "id": "73179374",
   "metadata": {},
   "outputs": [
    {
     "name": "stdout",
     "output_type": "stream",
     "text": [
      "Welcome to the CAPS LOCK program, is your CAPS LOCK and SHIFT key broken? What would you like to do?\n",
      " Type 1 - To type in something to make CAPS\n",
      " Type 2 - To print out your CAPS program!\n",
      " Type 3 - To reverse the CAPS and lower a selected statment!\n",
      " Type 4 - To Delete your String\n",
      " Type 0 - to Quit!\n",
      "0\n",
      "Thanks for trying my program! Come again!\n"
     ]
    }
   ],
   "source": [
    "class String:\n",
    "    def __init__(self, printStatment=[]):\n",
    "        self.printStatment = printStatment\n",
    "\n",
    "    def get_String(self):\n",
    "        x = input(\"Type in something and we'll make it ALL UPPER CASE FOR YOU!\\n\")\n",
    "        self.printStatment.append(x.upper())\n",
    "\n",
    "    def print_String(self):\n",
    "        if len(self.printStatment) == 0:\n",
    "            print(\"You have not typed anything! Please enter - 1 to type something!\")\n",
    "        else:\n",
    "            print(self.printStatment)\n",
    "\n",
    "    def lower_it(self):\n",
    "        if len(self.printStatment) == 0:\n",
    "            print(\"You have not typed anything! Please enter - 1 to type something!\")\n",
    "        else:\n",
    "            k = input(\n",
    "                f\"What Statment would you like to Reverse back to lower case?\\n {self.printStatment}\\n\").upper()\n",
    "            if k not in self.printStatment:\n",
    "                print(\"Your statment entered was not found!\")\n",
    "            else:\n",
    "                print(f'\"{k}\" has successfully been reversed!')\n",
    "                n = k.lower()\n",
    "                self.printStatment.remove(k)\n",
    "                self.printStatment.append(n)\n",
    "\n",
    "    def delete_String(self):\n",
    "        if len(self.printStatment) == 0:\n",
    "            print(\"You have not typed anything! Please enter - 1 to type something!\")\n",
    "        else:\n",
    "            o = input(\n",
    "                f\"What Statment would you like to remove?\\n Please copy and paste the statment, or type it as seen! This is case senstive!\\n {self.printStatment}\\n\")\n",
    "            if o not in self.printStatment:\n",
    "                print(\"Your statment entered was not found!\")\n",
    "            else:\n",
    "                print(f'\"{o}\" has successfully been removed!')\n",
    "                self.printStatment.remove(o)\n",
    "\n",
    "    def runIt(self):\n",
    "        while True:\n",
    "            z = int(input(\"Welcome to the CAPS LOCK program, is your CAPS LOCK and SHIFT key broken? What would you like to do?\\n Type 1 - To type in something to make CAPS\\n Type 2 - To print out your CAPS program!\\n Type 3 - To reverse the CAPS and lower a selected statment!\\n Type 4 - To Delete your String\\n Type 0 - to Quit!\\n\"))\n",
    "            if z == 1:\n",
    "                self.get_String()\n",
    "            elif z == 2:\n",
    "                self.print_String()\n",
    "            elif z == 3:\n",
    "                self.lower_it()\n",
    "            elif z == 4:\n",
    "                self.delete_String()\n",
    "            elif z == 0:\n",
    "                print(\"Thanks for trying my program! Come again!\")\n",
    "                break\n",
    "            else:\n",
    "                print(\"INVALID CHOICE! TRY AGAIN\")\n",
    "\n",
    "\n",
    "sendit = String()\n",
    "sendit.runIt()\n"
   ]
  }
 ],
 "metadata": {
  "kernelspec": {
   "display_name": "Python 3 (ipykernel)",
   "language": "python",
   "name": "python3"
  },
  "language_info": {
   "codemirror_mode": {
    "name": "ipython",
    "version": 3
   },
   "file_extension": ".py",
   "mimetype": "text/x-python",
   "name": "python",
   "nbconvert_exporter": "python",
   "pygments_lexer": "ipython3",
   "version": "3.9.13"
  }
 },
 "nbformat": 4,
 "nbformat_minor": 5
}
